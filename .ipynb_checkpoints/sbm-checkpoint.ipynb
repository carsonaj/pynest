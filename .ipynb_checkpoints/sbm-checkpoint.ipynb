{
 "cells": [
  {
   "cell_type": "code",
   "execution_count": 1,
   "metadata": {},
   "outputs": [],
   "source": [
    "import numpy as np    \n",
    "import matplotlib.pyplot as plt\n",
    "from matplotlib.pyplot import figure, text\n",
    "import networkx as nx\n",
    "\n",
    "from IPython.core.interactiveshell import InteractiveShell\n",
    "InteractiveShell.ast_node_interactivity = \"all\""
   ]
  },
  {
   "cell_type": "code",
   "execution_count": 3,
   "metadata": {},
   "outputs": [],
   "source": [
    "import pynest.rkg as rkg\n",
    "import pynest.sbm as sbm"
   ]
  },
  {
   "cell_type": "code",
   "execution_count": null,
   "metadata": {},
   "outputs": [],
   "source": [
    "p = .08\n",
    "ppm = PPM(p, lab_mat)\n",
    "get_adj_spec_emb"
   ]
  },
  {
   "cell_type": "code",
   "execution_count": null,
   "metadata": {},
   "outputs": [],
   "source": []
  },
  {
   "cell_type": "code",
   "execution_count": null,
   "metadata": {},
   "outputs": [],
   "source": []
  },
  {
   "cell_type": "code",
   "execution_count": null,
   "metadata": {},
   "outputs": [],
   "source": []
  },
  {
   "cell_type": "code",
   "execution_count": 11,
   "metadata": {},
   "outputs": [
    {
     "data": {
      "text/plain": [
       "array([[1., 0., 0.],\n",
       "       [0., 1., 0.],\n",
       "       [0., 0., 1.]])"
      ]
     },
     "execution_count": 11,
     "metadata": {},
     "output_type": "execute_result"
    }
   ],
   "source": [
    "x = np.random.multinomial(1, pvals=[.05, .05, .9], size=5)\n",
    "x\n",
    "x.shape[0]\n",
    "np.diag(np.ones(3))"
   ]
  },
  {
   "cell_type": "code",
   "execution_count": null,
   "metadata": {},
   "outputs": [],
   "source": []
  },
  {
   "cell_type": "code",
   "execution_count": null,
   "metadata": {},
   "outputs": [],
   "source": []
  },
  {
   "cell_type": "code",
   "execution_count": null,
   "metadata": {},
   "outputs": [],
   "source": []
  },
  {
   "cell_type": "code",
   "execution_count": 181,
   "metadata": {},
   "outputs": [],
   "source": [
    "def sample_lab_mat(num_vert, num_blocks, lab_prob):\n",
    "    assert len(lab_prob) == num_blocks\n",
    "    lab_mat = np.random.multinomial(1, pvals=lab_prob, size=num_vert)\n",
    "\n",
    "    return lab_mat"
   ]
  },
  {
   "cell_type": "code",
   "execution_count": 182,
   "metadata": {
    "scrolled": true
   },
   "outputs": [
    {
     "data": {
      "text/plain": [
       "array([[0, 1, 0],\n",
       "       [0, 1, 0],\n",
       "       [0, 1, 0],\n",
       "       [0, 0, 1],\n",
       "       [0, 1, 0],\n",
       "       [0, 1, 0],\n",
       "       [0, 1, 0],\n",
       "       [0, 1, 0],\n",
       "       [0, 1, 0],\n",
       "       [0, 1, 0]])"
      ]
     },
     "execution_count": 182,
     "metadata": {},
     "output_type": "execute_result"
    }
   ],
   "source": [
    "sample_lab_mat(10, 3, [.05, .9, .05])"
   ]
  },
  {
   "cell_type": "code",
   "execution_count": 20,
   "metadata": {},
   "outputs": [],
   "source": [
    "# stochastic block model\n",
    "\n",
    "import numpy as np\n",
    "\n",
    "# stochastic block model\n",
    "\n",
    "class SBM:\n",
    "    def __init__(self, lab_mat, bloc_prob_mat):\n",
    "\n",
    "        # label matrix of size num_vert x num_bloc\n",
    "        self.lab_mat = lab_mat\n",
    "\n",
    "        # number of vertices\n",
    "        self.num_vert = lab_mat.shape[0]\n",
    "\n",
    "        # number of blocks\n",
    "        self.num_bloc = lab_mat.shape[1]\n",
    "\n",
    "        # block probability matrix of size num_bloc x num_bloc\n",
    "        self.bloc_prob_mat = bloc_prob_mat\n",
    "        \n",
    "        # probability matrix of size num_vert x num_vert\n",
    "        self.prob_mat = self.lab_mat @ self.bloc_prob_mat @ self.lab_mat.transpose()\n",
    "\n",
    "class PPM(SBM):\n",
    "    def __init__(self, p, lab_mat):\n",
    "\n",
    "        # number of vertices\n",
    "        num_vert = lab_mat.shape[0]\n",
    "\n",
    "        # number of blocks\n",
    "        num_bloc = lab_mat.shape[1]\n",
    "\n",
    "        # q\n",
    "        q = 1 - p\n",
    "\n",
    "        bloc_prob_mat = q * np.ones((num_bloc, num_bloc)) + (p - q) * np.diag(np.ones(num_bloc))\n",
    "        super().__init__(lab_mat, bloc_prob_mat)"
   ]
  },
  {
   "cell_type": "code",
   "execution_count": 25,
   "metadata": {},
   "outputs": [],
   "source": [
    "lab_mat = np.array([[0, 1],[1, 0], [1, 0]])\n",
    "lab_mat\n",
    "p = .2"
   ]
  },
  {
   "cell_type": "code",
   "execution_count": 29,
   "metadata": {},
   "outputs": [
    {
     "data": {
      "text/plain": [
       "array([[0.2, 0.8, 0.8],\n",
       "       [0.8, 0.2, 0.2],\n",
       "       [0.8, 0.2, 0.2]])"
      ]
     },
     "execution_count": 29,
     "metadata": {},
     "output_type": "execute_result"
    }
   ],
   "source": [
    "pp = PPM(p, lab_mat)\n",
    "pp.num_bloc\n",
    "pp.num_vert\n",
    "pp.bloc_prob_mat\n",
    "pp.prob_mat"
   ]
  }
 ],
 "metadata": {
  "kernelspec": {
   "display_name": "Python 3",
   "language": "python",
   "name": "python3"
  },
  "language_info": {
   "codemirror_mode": {
    "name": "ipython",
    "version": 3
   },
   "file_extension": ".py",
   "mimetype": "text/x-python",
   "name": "python",
   "nbconvert_exporter": "python",
   "pygments_lexer": "ipython3",
   "version": "3.8.10"
  }
 },
 "nbformat": 4,
 "nbformat_minor": 4
}
